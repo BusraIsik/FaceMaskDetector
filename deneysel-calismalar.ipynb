{
 "cells": [
  {
   "cell_type": "code",
   "execution_count": 4,
   "metadata": {},
   "outputs": [],
   "source": [
    "import pathlib\n",
    "import tensorflow as tf\n",
    "import datetime\n",
    "\n",
    "from tensorflow.keras.preprocessing import image_dataset_from_directory\n",
    "from tensorflow import keras\n",
    "from tensorflow.keras.models import Sequential\n",
    "from tensorflow.keras.layers import Conv2D, MaxPooling2D, Dropout, Flatten, Dense, experimental, BatchNormalization"
   ]
  },
  {
   "cell_type": "code",
   "execution_count": 5,
   "metadata": {},
   "outputs": [],
   "source": [
    "%load_ext tensorboard"
   ]
  },
  {
   "cell_type": "code",
   "execution_count": 6,
   "metadata": {},
   "outputs": [],
   "source": [
    "data_dir = pathlib.Path('input/face-mask-detection/dataset')"
   ]
  },
  {
   "cell_type": "code",
   "execution_count": 8,
   "metadata": {},
   "outputs": [
    {
     "name": "stdout",
     "output_type": "stream",
     "text": [
      "5098\n"
     ]
    }
   ],
   "source": [
    "image_count = len(list(data_dir.glob('*/*.jpg')))\n",
    "print(image_count)"
   ]
  },
  {
   "cell_type": "code",
   "execution_count": 31,
   "metadata": {},
   "outputs": [],
   "source": [
    "batch_size = 32\n",
    "img_height = 128\n",
    "img_width = 128\n",
    "Image_Size = (img_width, img_height)"
   ]
  },
  {
   "cell_type": "code",
   "execution_count": 32,
   "metadata": {},
   "outputs": [
    {
     "name": "stdout",
     "output_type": "stream",
     "text": [
      "Found 5244 files belonging to 3 classes.\n",
      "Using 4196 files for training.\n"
     ]
    }
   ],
   "source": [
    "train = image_dataset_from_directory(\n",
    "    data_dir,\n",
    "    validation_split=0.2,\n",
    "    subset=\"training\",\n",
    "    seed=69,\n",
    "    image_size=(img_height, img_width),\n",
    "    batch_size=batch_size,\n",
    "    label_mode=\"categorical\")"
   ]
  },
  {
   "cell_type": "code",
   "execution_count": 33,
   "metadata": {},
   "outputs": [
    {
     "name": "stdout",
     "output_type": "stream",
     "text": [
      "Found 5244 files belonging to 3 classes.\n",
      "Using 1048 files for validation.\n"
     ]
    }
   ],
   "source": [
    "test = image_dataset_from_directory(\n",
    "    data_dir,\n",
    "    validation_split=0.2,\n",
    "    subset=\"validation\",\n",
    "    seed=69,\n",
    "    image_size=(img_height, img_width),\n",
    "    batch_size=batch_size,\n",
    "    label_mode=\"categorical\")"
   ]
  },
  {
   "cell_type": "code",
   "execution_count": 34,
   "metadata": {},
   "outputs": [
    {
     "name": "stdout",
     "output_type": "stream",
     "text": [
      "['incorrect_mask', 'with_mask', 'without_mask']\n"
     ]
    }
   ],
   "source": [
    "class_names = train.class_names\n",
    "print(class_names)"
   ]
  },
  {
   "cell_type": "code",
   "execution_count": 35,
   "metadata": {},
   "outputs": [],
   "source": [
    "AUTOTUNE = tf.data.AUTOTUNE\n",
    "\n",
    "train = train.cache().prefetch(buffer_size=AUTOTUNE)\n",
    "test = test.cache().prefetch(buffer_size=AUTOTUNE)"
   ]
  },
  {
   "cell_type": "code",
   "execution_count": 36,
   "metadata": {},
   "outputs": [],
   "source": [
    "input_shapes = (128, 128, 3)"
   ]
  },
  {
   "cell_type": "code",
   "execution_count": 37,
   "metadata": {},
   "outputs": [],
   "source": [
    "model = Sequential()\n",
    "\n",
    "model.add(experimental.preprocessing.Rescaling(\n",
    "    1/255, input_shape=(input_shapes)))\n",
    "\n",
    "model.add(Conv2D(32, (3, 3), activation=keras.activations.relu,\n",
    "          input_shape=input_shapes))\n",
    "model.add(BatchNormalization())\n",
    "model.add(MaxPooling2D(pool_size=(2, 2)))\n",
    "model.add(Dropout(0.3))\n",
    "\n",
    "model.add(Conv2D(64, (3, 3), activation=keras.activations.relu))\n",
    "model.add(BatchNormalization())\n",
    "model.add(MaxPooling2D(pool_size=(2, 2)))\n",
    "model.add(Dropout(0.3))\n",
    "\n",
    "model.add(Conv2D(128, (3, 3), activation=keras.activations.relu))\n",
    "model.add(BatchNormalization())\n",
    "model.add(MaxPooling2D(pool_size=(2, 2)))\n",
    "model.add(Dropout(0.3))\n",
    "\n",
    "model.add(Flatten())\n",
    "\n",
    "model.add(Dense(128, activation=keras.activations.relu))\n",
    "model.add(BatchNormalization())\n",
    "model.add(Dropout(0.5))\n",
    "\n",
    "model.add(Dense(3, activation=keras.activations.softmax))"
   ]
  },
  {
   "cell_type": "code",
   "execution_count": 38,
   "metadata": {},
   "outputs": [],
   "source": [
    "log_dir = \"logs/fit/\" + datetime.datetime.now().strftime(\"%Y%m%d-%H%M%S\")\n",
    "\n",
    "early_stopping = tf.keras.callbacks.EarlyStopping(\n",
    "    monitor=\"loss\", patience=3, mode=\"min\")\n",
    "tensorboard_callback = tf.keras.callbacks.TensorBoard(\n",
    "    log_dir=log_dir, histogram_freq=1)"
   ]
  },
  {
   "cell_type": "code",
   "execution_count": 39,
   "metadata": {},
   "outputs": [],
   "source": [
    "model.compile(loss=keras.losses.CategoricalCrossentropy(from_logits=True),\n",
    "              optimizer='adam',\n",
    "              metrics=['accuracy',tf.keras.metrics.Precision(),tf.keras.metrics.Recall()])"
   ]
  },
  {
   "cell_type": "code",
   "execution_count": 40,
   "metadata": {},
   "outputs": [
    {
     "name": "stdout",
     "output_type": "stream",
     "text": [
      "Model: \"sequential\"\n",
      "_________________________________________________________________\n",
      " Layer (type)                Output Shape              Param #   \n",
      "=================================================================\n",
      " rescaling (Rescaling)       (None, 128, 128, 3)       0         \n",
      "                                                                 \n",
      " conv2d (Conv2D)             (None, 126, 126, 32)      896       \n",
      "                                                                 \n",
      " batch_normalization (BatchN  (None, 126, 126, 32)     128       \n",
      " ormalization)                                                   \n",
      "                                                                 \n",
      " max_pooling2d (MaxPooling2D  (None, 63, 63, 32)       0         \n",
      " )                                                               \n",
      "                                                                 \n",
      " dropout (Dropout)           (None, 63, 63, 32)        0         \n",
      "                                                                 \n",
      " conv2d_1 (Conv2D)           (None, 61, 61, 64)        18496     \n",
      "                                                                 \n",
      " batch_normalization_1 (Batc  (None, 61, 61, 64)       256       \n",
      " hNormalization)                                                 \n",
      "                                                                 \n",
      " max_pooling2d_1 (MaxPooling  (None, 30, 30, 64)       0         \n",
      " 2D)                                                             \n",
      "                                                                 \n",
      " dropout_1 (Dropout)         (None, 30, 30, 64)        0         \n",
      "                                                                 \n",
      " conv2d_2 (Conv2D)           (None, 28, 28, 128)       73856     \n",
      "                                                                 \n",
      " batch_normalization_2 (Batc  (None, 28, 28, 128)      512       \n",
      " hNormalization)                                                 \n",
      "                                                                 \n",
      " max_pooling2d_2 (MaxPooling  (None, 14, 14, 128)      0         \n",
      " 2D)                                                             \n",
      "                                                                 \n",
      " dropout_2 (Dropout)         (None, 14, 14, 128)       0         \n",
      "                                                                 \n",
      " flatten (Flatten)           (None, 25088)             0         \n",
      "                                                                 \n",
      " dense (Dense)               (None, 128)               3211392   \n",
      "                                                                 \n",
      " batch_normalization_3 (Batc  (None, 128)              512       \n",
      " hNormalization)                                                 \n",
      "                                                                 \n",
      " dropout_3 (Dropout)         (None, 128)               0         \n",
      "                                                                 \n",
      " dense_1 (Dense)             (None, 3)                 387       \n",
      "                                                                 \n",
      "=================================================================\n",
      "Total params: 3,306,435\n",
      "Trainable params: 3,305,731\n",
      "Non-trainable params: 704\n",
      "_________________________________________________________________\n"
     ]
    }
   ],
   "source": [
    "model.summary()"
   ]
  },
  {
   "cell_type": "code",
   "execution_count": 41,
   "metadata": {},
   "outputs": [
    {
     "name": "stdout",
     "output_type": "stream",
     "text": [
      "Epoch 1/15\n"
     ]
    },
    {
     "name": "stderr",
     "output_type": "stream",
     "text": [
      "C:\\Users\\batuhan\\anaconda3\\lib\\site-packages\\tensorflow\\python\\util\\dispatch.py:1096: UserWarning: \"`categorical_crossentropy` received `from_logits=True`, but the `output` argument was produced by a sigmoid or softmax activation and thus does not represent logits. Was this intended?\"\n",
      "  return dispatch_target(*args, **kwargs)\n"
     ]
    },
    {
     "name": "stdout",
     "output_type": "stream",
     "text": [
      "132/132 [==============================] - 89s 654ms/step - loss: 0.4685 - accuracy: 0.8310 - precision: 0.8476 - recall: 0.8153 - val_loss: 10.8418 - val_accuracy: 0.3950 - val_precision: 0.3950 - val_recall: 0.3950\n",
      "Epoch 2/15\n",
      "132/132 [==============================] - 81s 618ms/step - loss: 0.2876 - accuracy: 0.8990 - precision: 0.9059 - recall: 0.8904 - val_loss: 4.7546 - val_accuracy: 0.3969 - val_precision: 0.3969 - val_recall: 0.3969\n",
      "Epoch 3/15\n",
      "132/132 [==============================] - 80s 602ms/step - loss: 0.2227 - accuracy: 0.9218 - precision: 0.9294 - recall: 0.9156 - val_loss: 2.0745 - val_accuracy: 0.5076 - val_precision: 0.5081 - val_recall: 0.5076\n",
      "Epoch 4/15\n",
      "132/132 [==============================] - 73s 557ms/step - loss: 0.1776 - accuracy: 0.9357 - precision: 0.9399 - recall: 0.9285 - val_loss: 1.1374 - val_accuracy: 0.7510 - val_precision: 0.7568 - val_recall: 0.7452\n",
      "Epoch 5/15\n",
      "132/132 [==============================] - 80s 607ms/step - loss: 0.1447 - accuracy: 0.9476 - precision: 0.9522 - recall: 0.9445 - val_loss: 0.7857 - val_accuracy: 0.8588 - val_precision: 0.8652 - val_recall: 0.8511\n",
      "Epoch 6/15\n",
      "132/132 [==============================] - 79s 597ms/step - loss: 0.1130 - accuracy: 0.9597 - precision: 0.9624 - recall: 0.9571 - val_loss: 0.5998 - val_accuracy: 0.7910 - val_precision: 0.7942 - val_recall: 0.7844\n",
      "Epoch 7/15\n",
      "132/132 [==============================] - 75s 571ms/step - loss: 0.0958 - accuracy: 0.9645 - precision: 0.9679 - recall: 0.9626 - val_loss: 0.3388 - val_accuracy: 0.8922 - val_precision: 0.8970 - val_recall: 0.8893\n",
      "Epoch 8/15\n",
      "132/132 [==============================] - 75s 568ms/step - loss: 0.0888 - accuracy: 0.9709 - precision: 0.9716 - recall: 0.9685 - val_loss: 0.3327 - val_accuracy: 0.9074 - val_precision: 0.9132 - val_recall: 0.9036\n",
      "Epoch 9/15\n",
      "132/132 [==============================] - 79s 597ms/step - loss: 0.0604 - accuracy: 0.9788 - precision: 0.9802 - recall: 0.9774 - val_loss: 0.3382 - val_accuracy: 0.9198 - val_precision: 0.9231 - val_recall: 0.9160\n",
      "Epoch 10/15\n",
      "132/132 [==============================] - 74s 562ms/step - loss: 0.0500 - accuracy: 0.9828 - precision: 0.9838 - recall: 0.9814 - val_loss: 0.2427 - val_accuracy: 0.9256 - val_precision: 0.9273 - val_recall: 0.9256\n",
      "Epoch 11/15\n",
      "132/132 [==============================] - 73s 553ms/step - loss: 0.0431 - accuracy: 0.9852 - precision: 0.9852 - recall: 0.9840 - val_loss: 0.3900 - val_accuracy: 0.8817 - val_precision: 0.8835 - val_recall: 0.8760\n",
      "Epoch 12/15\n",
      "132/132 [==============================] - 76s 574ms/step - loss: 0.0331 - accuracy: 0.9886 - precision: 0.9893 - recall: 0.9883 - val_loss: 0.2103 - val_accuracy: 0.9466 - val_precision: 0.9473 - val_recall: 0.9437\n",
      "Epoch 13/15\n",
      "132/132 [==============================] - 75s 565ms/step - loss: 0.0428 - accuracy: 0.9847 - precision: 0.9850 - recall: 0.9843 - val_loss: 0.3662 - val_accuracy: 0.9094 - val_precision: 0.9127 - val_recall: 0.9074\n",
      "Epoch 14/15\n",
      "132/132 [==============================] - 76s 578ms/step - loss: 0.0405 - accuracy: 0.9845 - precision: 0.9852 - recall: 0.9838 - val_loss: 0.9173 - val_accuracy: 0.7987 - val_precision: 0.7987 - val_recall: 0.7910\n",
      "Epoch 15/15\n",
      "132/132 [==============================] - 76s 578ms/step - loss: 0.0466 - accuracy: 0.9831 - precision: 0.9840 - recall: 0.9828 - val_loss: 0.3872 - val_accuracy: 0.8817 - val_precision: 0.8839 - val_recall: 0.8788\n"
     ]
    }
   ],
   "source": [
    "history = model.fit(train, epochs=15, validation_data=test,\n",
    "                    callbacks=[early_stopping, tensorboard_callback])"
   ]
  },
  {
   "cell_type": "code",
   "execution_count": 42,
   "metadata": {},
   "outputs": [],
   "source": [
    "model.save('mask_detection_model.h5')"
   ]
  },
  {
   "cell_type": "code",
   "execution_count": 43,
   "metadata": {},
   "outputs": [],
   "source": [
    "model = keras.models.load_model('mask_detection_model.h5')"
   ]
  },
  {
   "cell_type": "code",
   "execution_count": 44,
   "metadata": {},
   "outputs": [],
   "source": [
    "from matplotlib import pyplot as plt\n",
    "from tensorflow.keras.utils import plot_model"
   ]
  },
  {
   "cell_type": "code",
   "execution_count": 45,
   "metadata": {},
   "outputs": [],
   "source": [
    "def plot_curve(metric):\n",
    "    plt.plot(history.history[metric])\n",
    "    plt.plot(history.history[f'val_{metric}'])\n",
    "    plt.title(f'Model {metric}')\n",
    "    plt.ylabel(metric)\n",
    "    plt.xlabel('epoch')\n",
    "    plt.legend(['train', 'validation'], loc='upper left')\n",
    "    plt.savefig(metric)\n",
    "    plt.show()"
   ]
  },
  {
   "cell_type": "code",
   "execution_count": 46,
   "metadata": {},
   "outputs": [
    {
     "data": {
      "image/png": "[encoded data removed]",
      "text/plain": [
       "<Figure size 432x288 with 1 Axes>"
      ]
     },
     "metadata": {
      "needs_background": "light"
     },
     "output_type": "display_data"
    }
   ],
   "source": [
    "plot_curve('accuracy')"
   ]
  },
  {
   "cell_type": "code",
   "execution_count": 47,
   "metadata": {},
   "outputs": [
    {
     "data": {
      "image/png": "[encoded data removed]",
      "text/plain": [
       "<Figure size 432x288 with 1 Axes>"
      ]
     },
     "metadata": {
      "needs_background": "light"
     },
     "output_type": "display_data"
    }
   ],
   "source": [
    "plot_curve('precision')"
   ]
  },
  {
   "cell_type": "code",
   "execution_count": 48,
   "metadata": {},
   "outputs": [
    {
     "data": {
      "image/png": "[encoded data removed]",
      "text/plain": [
       "<Figure size 432x288 with 1 Axes>"
      ]
     },
     "metadata": {
      "needs_background": "light"
     },
     "output_type": "display_data"
    }
   ],
   "source": [
    "plot_curve('recall')"
   ]
  },
  {
   "cell_type": "code",
   "execution_count": 49,
   "metadata": {},
   "outputs": [
    {
     "name": "stderr",
     "output_type": "stream",
     "text": [
      "C:\\Users\\batuhan\\anaconda3\\lib\\site-packages\\tensorflow\\python\\util\\dispatch.py:1096: UserWarning: \"`categorical_crossentropy` received `from_logits=True`, but the `output` argument was produced by a sigmoid or softmax activation and thus does not represent logits. Was this intended?\"\n",
      "  return dispatch_target(*args, **kwargs)\n"
     ]
    },
    {
     "name": "stdout",
     "output_type": "stream",
     "text": [
      "33/33 [==============================] - 4s 120ms/step - loss: 0.3872 - accuracy: 0.8817 - precision: 0.8839 - recall: 0.8788\n"
     ]
    },
    {
     "data": {
      "text/plain": [
       "{'loss': 0.3872116804122925,\n",
       " 'accuracy': 0.8816794157028198,\n",
       " 'precision': 0.883877158164978,\n",
       " 'recall': 0.8788167834281921}"
      ]
     },
     "execution_count": 49,
     "metadata": {},
     "output_type": "execute_result"
    }
   ],
   "source": [
    "model.evaluate(test, return_dict=True)"
   ]
  },
  {
   "cell_type": "code",
   "execution_count": null,
   "metadata": {},
   "outputs": [],
   "source": []
  }
 ],
 "metadata": {
  "kernelspec": {
   "display_name": "Python 3",
   "language": "python",
   "name": "python3"
  },
  "language_info": {
   "codemirror_mode": {
    "name": "ipython",
    "version": 3
   },
   "file_extension": ".py",
   "mimetype": "text/x-python",
   "name": "python",
   "nbconvert_exporter": "python",
   "pygments_lexer": "ipython3",
   "version": "3.8.5"
  }
 },
 "nbformat": 4,
 "nbformat_minor": 4
}
